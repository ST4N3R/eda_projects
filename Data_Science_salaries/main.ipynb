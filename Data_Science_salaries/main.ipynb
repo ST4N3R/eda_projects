{
 "cells": [
  {
   "cell_type": "code",
   "execution_count": 73,
   "metadata": {},
   "outputs": [],
   "source": [
    "import pandas as pd\n",
    "import numpy as np"
   ]
  },
  {
   "cell_type": "markdown",
   "metadata": {},
   "source": [
    "## 1. Wstępna analiza"
   ]
  },
  {
   "cell_type": "code",
   "execution_count": 74,
   "metadata": {},
   "outputs": [
    {
     "data": {
      "text/html": [
       "<div>\n",
       "<style scoped>\n",
       "    .dataframe tbody tr th:only-of-type {\n",
       "        vertical-align: middle;\n",
       "    }\n",
       "\n",
       "    .dataframe tbody tr th {\n",
       "        vertical-align: top;\n",
       "    }\n",
       "\n",
       "    .dataframe thead th {\n",
       "        text-align: right;\n",
       "    }\n",
       "</style>\n",
       "<table border=\"1\" class=\"dataframe\">\n",
       "  <thead>\n",
       "    <tr style=\"text-align: right;\">\n",
       "      <th></th>\n",
       "      <th>work_year</th>\n",
       "      <th>experience_level</th>\n",
       "      <th>employment_type</th>\n",
       "      <th>job_title</th>\n",
       "      <th>salary</th>\n",
       "      <th>salary_currency</th>\n",
       "      <th>salary_in_usd</th>\n",
       "      <th>employee_residence</th>\n",
       "      <th>remote_ratio</th>\n",
       "      <th>company_location</th>\n",
       "      <th>company_size</th>\n",
       "    </tr>\n",
       "  </thead>\n",
       "  <tbody>\n",
       "    <tr>\n",
       "      <th>0</th>\n",
       "      <td>2023</td>\n",
       "      <td>SE</td>\n",
       "      <td>FT</td>\n",
       "      <td>Principal Data Scientist</td>\n",
       "      <td>80000</td>\n",
       "      <td>EUR</td>\n",
       "      <td>85847</td>\n",
       "      <td>ES</td>\n",
       "      <td>100</td>\n",
       "      <td>ES</td>\n",
       "      <td>L</td>\n",
       "    </tr>\n",
       "    <tr>\n",
       "      <th>1</th>\n",
       "      <td>2023</td>\n",
       "      <td>MI</td>\n",
       "      <td>CT</td>\n",
       "      <td>ML Engineer</td>\n",
       "      <td>30000</td>\n",
       "      <td>USD</td>\n",
       "      <td>30000</td>\n",
       "      <td>US</td>\n",
       "      <td>100</td>\n",
       "      <td>US</td>\n",
       "      <td>S</td>\n",
       "    </tr>\n",
       "    <tr>\n",
       "      <th>2</th>\n",
       "      <td>2023</td>\n",
       "      <td>MI</td>\n",
       "      <td>CT</td>\n",
       "      <td>ML Engineer</td>\n",
       "      <td>25500</td>\n",
       "      <td>USD</td>\n",
       "      <td>25500</td>\n",
       "      <td>US</td>\n",
       "      <td>100</td>\n",
       "      <td>US</td>\n",
       "      <td>S</td>\n",
       "    </tr>\n",
       "    <tr>\n",
       "      <th>3</th>\n",
       "      <td>2023</td>\n",
       "      <td>SE</td>\n",
       "      <td>FT</td>\n",
       "      <td>Data Scientist</td>\n",
       "      <td>175000</td>\n",
       "      <td>USD</td>\n",
       "      <td>175000</td>\n",
       "      <td>CA</td>\n",
       "      <td>100</td>\n",
       "      <td>CA</td>\n",
       "      <td>M</td>\n",
       "    </tr>\n",
       "    <tr>\n",
       "      <th>4</th>\n",
       "      <td>2023</td>\n",
       "      <td>SE</td>\n",
       "      <td>FT</td>\n",
       "      <td>Data Scientist</td>\n",
       "      <td>120000</td>\n",
       "      <td>USD</td>\n",
       "      <td>120000</td>\n",
       "      <td>CA</td>\n",
       "      <td>100</td>\n",
       "      <td>CA</td>\n",
       "      <td>M</td>\n",
       "    </tr>\n",
       "    <tr>\n",
       "      <th>...</th>\n",
       "      <td>...</td>\n",
       "      <td>...</td>\n",
       "      <td>...</td>\n",
       "      <td>...</td>\n",
       "      <td>...</td>\n",
       "      <td>...</td>\n",
       "      <td>...</td>\n",
       "      <td>...</td>\n",
       "      <td>...</td>\n",
       "      <td>...</td>\n",
       "      <td>...</td>\n",
       "    </tr>\n",
       "    <tr>\n",
       "      <th>3750</th>\n",
       "      <td>2020</td>\n",
       "      <td>SE</td>\n",
       "      <td>FT</td>\n",
       "      <td>Data Scientist</td>\n",
       "      <td>412000</td>\n",
       "      <td>USD</td>\n",
       "      <td>412000</td>\n",
       "      <td>US</td>\n",
       "      <td>100</td>\n",
       "      <td>US</td>\n",
       "      <td>L</td>\n",
       "    </tr>\n",
       "    <tr>\n",
       "      <th>3751</th>\n",
       "      <td>2021</td>\n",
       "      <td>MI</td>\n",
       "      <td>FT</td>\n",
       "      <td>Principal Data Scientist</td>\n",
       "      <td>151000</td>\n",
       "      <td>USD</td>\n",
       "      <td>151000</td>\n",
       "      <td>US</td>\n",
       "      <td>100</td>\n",
       "      <td>US</td>\n",
       "      <td>L</td>\n",
       "    </tr>\n",
       "    <tr>\n",
       "      <th>3752</th>\n",
       "      <td>2020</td>\n",
       "      <td>EN</td>\n",
       "      <td>FT</td>\n",
       "      <td>Data Scientist</td>\n",
       "      <td>105000</td>\n",
       "      <td>USD</td>\n",
       "      <td>105000</td>\n",
       "      <td>US</td>\n",
       "      <td>100</td>\n",
       "      <td>US</td>\n",
       "      <td>S</td>\n",
       "    </tr>\n",
       "    <tr>\n",
       "      <th>3753</th>\n",
       "      <td>2020</td>\n",
       "      <td>EN</td>\n",
       "      <td>CT</td>\n",
       "      <td>Business Data Analyst</td>\n",
       "      <td>100000</td>\n",
       "      <td>USD</td>\n",
       "      <td>100000</td>\n",
       "      <td>US</td>\n",
       "      <td>100</td>\n",
       "      <td>US</td>\n",
       "      <td>L</td>\n",
       "    </tr>\n",
       "    <tr>\n",
       "      <th>3754</th>\n",
       "      <td>2021</td>\n",
       "      <td>SE</td>\n",
       "      <td>FT</td>\n",
       "      <td>Data Science Manager</td>\n",
       "      <td>7000000</td>\n",
       "      <td>INR</td>\n",
       "      <td>94665</td>\n",
       "      <td>IN</td>\n",
       "      <td>50</td>\n",
       "      <td>IN</td>\n",
       "      <td>L</td>\n",
       "    </tr>\n",
       "  </tbody>\n",
       "</table>\n",
       "<p>3755 rows × 11 columns</p>\n",
       "</div>"
      ],
      "text/plain": [
       "      work_year experience_level employment_type                 job_title  \\\n",
       "0          2023               SE              FT  Principal Data Scientist   \n",
       "1          2023               MI              CT               ML Engineer   \n",
       "2          2023               MI              CT               ML Engineer   \n",
       "3          2023               SE              FT            Data Scientist   \n",
       "4          2023               SE              FT            Data Scientist   \n",
       "...         ...              ...             ...                       ...   \n",
       "3750       2020               SE              FT            Data Scientist   \n",
       "3751       2021               MI              FT  Principal Data Scientist   \n",
       "3752       2020               EN              FT            Data Scientist   \n",
       "3753       2020               EN              CT     Business Data Analyst   \n",
       "3754       2021               SE              FT      Data Science Manager   \n",
       "\n",
       "       salary salary_currency  salary_in_usd employee_residence  remote_ratio  \\\n",
       "0       80000             EUR          85847                 ES           100   \n",
       "1       30000             USD          30000                 US           100   \n",
       "2       25500             USD          25500                 US           100   \n",
       "3      175000             USD         175000                 CA           100   \n",
       "4      120000             USD         120000                 CA           100   \n",
       "...       ...             ...            ...                ...           ...   \n",
       "3750   412000             USD         412000                 US           100   \n",
       "3751   151000             USD         151000                 US           100   \n",
       "3752   105000             USD         105000                 US           100   \n",
       "3753   100000             USD         100000                 US           100   \n",
       "3754  7000000             INR          94665                 IN            50   \n",
       "\n",
       "     company_location company_size  \n",
       "0                  ES            L  \n",
       "1                  US            S  \n",
       "2                  US            S  \n",
       "3                  CA            M  \n",
       "4                  CA            M  \n",
       "...               ...          ...  \n",
       "3750               US            L  \n",
       "3751               US            L  \n",
       "3752               US            S  \n",
       "3753               US            L  \n",
       "3754               IN            L  \n",
       "\n",
       "[3755 rows x 11 columns]"
      ]
     },
     "execution_count": 74,
     "metadata": {},
     "output_type": "execute_result"
    }
   ],
   "source": [
    "# Zaimportuj dane\n",
    "\n",
    "ds_salaries = pd.read_csv('ds_salaries.csv')\n",
    "ds_salaries"
   ]
  },
  {
   "cell_type": "code",
   "execution_count": 75,
   "metadata": {},
   "outputs": [
    {
     "name": "stdout",
     "output_type": "stream",
     "text": [
      "Krztałt zbioru danych: (3755, 11)\n",
      "\n",
      "<class 'pandas.core.frame.DataFrame'>\n",
      "RangeIndex: 3755 entries, 0 to 3754\n",
      "Data columns (total 11 columns):\n",
      " #   Column              Non-Null Count  Dtype \n",
      "---  ------              --------------  ----- \n",
      " 0   work_year           3755 non-null   int64 \n",
      " 1   experience_level    3755 non-null   object\n",
      " 2   employment_type     3755 non-null   object\n",
      " 3   job_title           3755 non-null   object\n",
      " 4   salary              3755 non-null   int64 \n",
      " 5   salary_currency     3755 non-null   object\n",
      " 6   salary_in_usd       3755 non-null   int64 \n",
      " 7   employee_residence  3755 non-null   object\n",
      " 8   remote_ratio        3755 non-null   int64 \n",
      " 9   company_location    3755 non-null   object\n",
      " 10  company_size        3755 non-null   object\n",
      "dtypes: int64(4), object(7)\n",
      "memory usage: 322.8+ KB\n",
      "\n",
      " Zbiór danych nie ma żadnyh wartości null\n"
     ]
    }
   ],
   "source": [
    "# Pośród 3755 rekordów nie ma żadnych wartości null\n",
    "print(f\"Krztałt zbioru danych: {ds_salaries.shape}\\n\")\n",
    "\n",
    "ds_salaries.info()\n",
    "\n",
    "print(f'\\n Zbiór danych nie ma żadnyh wartości null')"
   ]
  },
  {
   "cell_type": "code",
   "execution_count": 76,
   "metadata": {},
   "outputs": [
    {
     "name": "stdout",
     "output_type": "stream",
     "text": [
      "Kolumna remote_ratio jest nietypowa ponieważ ma typ zmiennych int, ale wartości są zdecydowanie kategoryczne. Zamieniam je na bardziej czytelne\n"
     ]
    },
    {
     "data": {
      "text/plain": [
       "count        3755\n",
       "unique          3\n",
       "top       On-site\n",
       "freq         1923\n",
       "Name: remote_ratio, dtype: object"
      ]
     },
     "execution_count": 76,
     "metadata": {},
     "output_type": "execute_result"
    }
   ],
   "source": [
    "print('Kolumna remote_ratio jest nietypowa ponieważ ma typ zmiennych int, ale wartości są zdecydowanie kategoryczne. Zamieniam je na bardziej czytelne')\n",
    "\n",
    "ds_salaries['remote_ratio'].unique()\n",
    "ds_salaries['remote_ratio'] = ds_salaries['remote_ratio'].replace({100: 'Remote', 0:'On-site', 50:'Hybrid'})\n",
    "ds_salaries['remote_ratio'].describe()"
   ]
  },
  {
   "cell_type": "code",
   "execution_count": 77,
   "metadata": {},
   "outputs": [
    {
     "name": "stdout",
     "output_type": "stream",
     "text": [
      "W zbiorze danych jest 8 kolumn o typie innej niż liczbowy\n"
     ]
    }
   ],
   "source": [
    "object_columns = ds_salaries.select_dtypes(include=['object']).columns\n",
    "\n",
    "print(f'W zbiorze danych jest {len(object_columns)} kolumn o typie innej niż liczbowy')"
   ]
  },
  {
   "cell_type": "code",
   "execution_count": 78,
   "metadata": {},
   "outputs": [
    {
     "name": "stdout",
     "output_type": "stream",
     "text": [
      "Kolumna experience_level ma 4 różnych wartości\n",
      "Kolumna employment_type ma 4 różnych wartości\n",
      "Kolumna job_title ma 93 różnych wartości\n",
      "Kolumna salary_currency ma 20 różnych wartości\n",
      "Kolumna employee_residence ma 78 różnych wartości\n",
      "Kolumna remote_ratio ma 3 różnych wartości\n",
      "Kolumna company_location ma 72 różnych wartości\n",
      "Kolumna company_size ma 3 różnych wartości\n"
     ]
    }
   ],
   "source": [
    "for col in object_columns:\n",
    "    print(f'Kolumna {col} ma {len(ds_salaries[col].unique())} różnych wartości')"
   ]
  },
  {
   "cell_type": "markdown",
   "metadata": {},
   "source": [
    "## 2. Dostosowanie kolumn nieliczbowych"
   ]
  },
  {
   "cell_type": "code",
   "execution_count": 79,
   "metadata": {},
   "outputs": [],
   "source": [
    "from sklearn.preprocessing import LabelEncoder"
   ]
  },
  {
   "cell_type": "code",
   "execution_count": 80,
   "metadata": {},
   "outputs": [
    {
     "name": "stdout",
     "output_type": "stream",
     "text": [
      "Zdecydowałem się na użycie LabelEncodera, ponieważ przy zbiór danych ma kilka kolumn nienumerycznych, które mają sporo różnych wartości.\n",
      "Niestety nie mają one teraz wartości 0-1, dlatego będzie konieczne przesklawoanie tych wartości\n"
     ]
    }
   ],
   "source": [
    "data = ds_salaries.copy()\n",
    "\n",
    "data_obj = data[object_columns]\n",
    "\n",
    "labelEncoder = LabelEncoder()\n",
    "\n",
    "for col in object_columns:\n",
    "    data[col] = labelEncoder.fit_transform(data[col])\n",
    "\n",
    "print(\"Zdecydowałem się na użycie LabelEncodera, ponieważ przy zbiór danych ma kilka kolumn nienumerycznych, które mają sporo różnych wartości.\")\n",
    "print(\"Niestety nie mają one teraz wartości 0-1, dlatego będzie konieczne przesklawoanie tych wartości\")"
   ]
  },
  {
   "cell_type": "markdown",
   "metadata": {},
   "source": [
    "## 3. Podział danych i ich skalowanie"
   ]
  },
  {
   "cell_type": "code",
   "execution_count": 81,
   "metadata": {},
   "outputs": [],
   "source": [
    "from sklearn.model_selection import train_test_split\n",
    "from sklearn.preprocessing import MinMaxScaler\n",
    "from sklearn.pipeline import Pipeline, make_pipeline"
   ]
  },
  {
   "cell_type": "code",
   "execution_count": 82,
   "metadata": {},
   "outputs": [],
   "source": [
    "y = data['salary_in_usd']\n",
    "X = data.drop('salary_in_usd', axis=1)  #To tworzy kopię data i dopiero wtedy usuwa kolumnę, więc oryginalna data jest nietknięta\n",
    "\n",
    "X_train, X_test, y_train, y_test = train_test_split(X, y, test_size=0.2)"
   ]
  },
  {
   "cell_type": "code",
   "execution_count": 83,
   "metadata": {},
   "outputs": [
    {
     "name": "stdout",
     "output_type": "stream",
     "text": [
      "Ten potok pozwala na przeskalowanie wartości do zakresu <0; 1> przy pomocy metody MinMaxScaler\n"
     ]
    }
   ],
   "source": [
    "preprocessing_pipeline = make_pipeline(\n",
    "    MinMaxScaler(),\n",
    ")\n",
    "\n",
    "print(\"Ten potok pozwala na przeskalowanie wartości do zakresu <0; 1> przy pomocy metody MinMaxScaler\")"
   ]
  },
  {
   "cell_type": "markdown",
   "metadata": {},
   "source": [
    "## 4. DecisionTreeClassifier"
   ]
  },
  {
   "cell_type": "code",
   "execution_count": 84,
   "metadata": {},
   "outputs": [],
   "source": [
    "from sklearn.tree import DecisionTreeClassifier\n",
    "from sklearn.model_selection import RandomizedSearchCV\n",
    "from sklearn.metrics import accuracy_score, precision_score, recall_score, f1_score, mean_squared_error\n",
    "import numpy as np"
   ]
  },
  {
   "cell_type": "code",
   "execution_count": 85,
   "metadata": {},
   "outputs": [],
   "source": [
    "dtc_pipeline = Pipeline([\n",
    "    ('preprocessing', preprocessing_pipeline),\n",
    "    ('classification', DecisionTreeClassifier())\n",
    "])"
   ]
  },
  {
   "cell_type": "code",
   "execution_count": 86,
   "metadata": {},
   "outputs": [],
   "source": [
    "dtc_params = {\n",
    "    'classification__criterion':['gini','entropy'],\n",
    "    'classification__max_depth':np.arange(1, 21).tolist()[0::2],\n",
    "    'classification__min_samples_split':np.arange(2,11).tolist()[0::2],\n",
    "    'classification__max_leaf_nodes':np.arange(3,501).tolist()[0::2]\n",
    "}"
   ]
  },
  {
   "cell_type": "code",
   "execution_count": 87,
   "metadata": {},
   "outputs": [],
   "source": [
    "r1 = RandomizedSearchCV(dtc_pipeline, dtc_params, cv=5, n_iter=100, random_state=42)"
   ]
  },
  {
   "cell_type": "code",
   "execution_count": 88,
   "metadata": {},
   "outputs": [
    {
     "name": "stderr",
     "output_type": "stream",
     "text": [
      "c:\\Users\\Stasiek\\AppData\\Local\\Programs\\Python\\Python310\\lib\\site-packages\\sklearn\\model_selection\\_split.py:700: UserWarning: The least populated class in y has only 1 members, which is less than n_splits=5.\n",
      "  warnings.warn(\n"
     ]
    },
    {
     "data": {
      "text/html": [
       "<style>#sk-container-id-4 {color: black;background-color: white;}#sk-container-id-4 pre{padding: 0;}#sk-container-id-4 div.sk-toggleable {background-color: white;}#sk-container-id-4 label.sk-toggleable__label {cursor: pointer;display: block;width: 100%;margin-bottom: 0;padding: 0.3em;box-sizing: border-box;text-align: center;}#sk-container-id-4 label.sk-toggleable__label-arrow:before {content: \"▸\";float: left;margin-right: 0.25em;color: #696969;}#sk-container-id-4 label.sk-toggleable__label-arrow:hover:before {color: black;}#sk-container-id-4 div.sk-estimator:hover label.sk-toggleable__label-arrow:before {color: black;}#sk-container-id-4 div.sk-toggleable__content {max-height: 0;max-width: 0;overflow: hidden;text-align: left;background-color: #f0f8ff;}#sk-container-id-4 div.sk-toggleable__content pre {margin: 0.2em;color: black;border-radius: 0.25em;background-color: #f0f8ff;}#sk-container-id-4 input.sk-toggleable__control:checked~div.sk-toggleable__content {max-height: 200px;max-width: 100%;overflow: auto;}#sk-container-id-4 input.sk-toggleable__control:checked~label.sk-toggleable__label-arrow:before {content: \"▾\";}#sk-container-id-4 div.sk-estimator input.sk-toggleable__control:checked~label.sk-toggleable__label {background-color: #d4ebff;}#sk-container-id-4 div.sk-label input.sk-toggleable__control:checked~label.sk-toggleable__label {background-color: #d4ebff;}#sk-container-id-4 input.sk-hidden--visually {border: 0;clip: rect(1px 1px 1px 1px);clip: rect(1px, 1px, 1px, 1px);height: 1px;margin: -1px;overflow: hidden;padding: 0;position: absolute;width: 1px;}#sk-container-id-4 div.sk-estimator {font-family: monospace;background-color: #f0f8ff;border: 1px dotted black;border-radius: 0.25em;box-sizing: border-box;margin-bottom: 0.5em;}#sk-container-id-4 div.sk-estimator:hover {background-color: #d4ebff;}#sk-container-id-4 div.sk-parallel-item::after {content: \"\";width: 100%;border-bottom: 1px solid gray;flex-grow: 1;}#sk-container-id-4 div.sk-label:hover label.sk-toggleable__label {background-color: #d4ebff;}#sk-container-id-4 div.sk-serial::before {content: \"\";position: absolute;border-left: 1px solid gray;box-sizing: border-box;top: 0;bottom: 0;left: 50%;z-index: 0;}#sk-container-id-4 div.sk-serial {display: flex;flex-direction: column;align-items: center;background-color: white;padding-right: 0.2em;padding-left: 0.2em;position: relative;}#sk-container-id-4 div.sk-item {position: relative;z-index: 1;}#sk-container-id-4 div.sk-parallel {display: flex;align-items: stretch;justify-content: center;background-color: white;position: relative;}#sk-container-id-4 div.sk-item::before, #sk-container-id-4 div.sk-parallel-item::before {content: \"\";position: absolute;border-left: 1px solid gray;box-sizing: border-box;top: 0;bottom: 0;left: 50%;z-index: -1;}#sk-container-id-4 div.sk-parallel-item {display: flex;flex-direction: column;z-index: 1;position: relative;background-color: white;}#sk-container-id-4 div.sk-parallel-item:first-child::after {align-self: flex-end;width: 50%;}#sk-container-id-4 div.sk-parallel-item:last-child::after {align-self: flex-start;width: 50%;}#sk-container-id-4 div.sk-parallel-item:only-child::after {width: 0;}#sk-container-id-4 div.sk-dashed-wrapped {border: 1px dashed gray;margin: 0 0.4em 0.5em 0.4em;box-sizing: border-box;padding-bottom: 0.4em;background-color: white;}#sk-container-id-4 div.sk-label label {font-family: monospace;font-weight: bold;display: inline-block;line-height: 1.2em;}#sk-container-id-4 div.sk-label-container {text-align: center;}#sk-container-id-4 div.sk-container {/* jupyter's `normalize.less` sets `[hidden] { display: none; }` but bootstrap.min.css set `[hidden] { display: none !important; }` so we also need the `!important` here to be able to override the default hidden behavior on the sphinx rendered scikit-learn.org. See: https://github.com/scikit-learn/scikit-learn/issues/21755 */display: inline-block !important;position: relative;}#sk-container-id-4 div.sk-text-repr-fallback {display: none;}</style><div id=\"sk-container-id-4\" class=\"sk-top-container\"><div class=\"sk-text-repr-fallback\"><pre>RandomizedSearchCV(cv=5,\n",
       "                   estimator=Pipeline(steps=[(&#x27;preprocessing&#x27;,\n",
       "                                              Pipeline(steps=[(&#x27;minmaxscaler&#x27;,\n",
       "                                                               MinMaxScaler())])),\n",
       "                                             (&#x27;classification&#x27;,\n",
       "                                              DecisionTreeClassifier())]),\n",
       "                   n_iter=100,\n",
       "                   param_distributions={&#x27;classification__criterion&#x27;: [&#x27;gini&#x27;,\n",
       "                                                                      &#x27;entropy&#x27;],\n",
       "                                        &#x27;classification__max_depth&#x27;: [1, 3, 5,\n",
       "                                                                      7, 9, 11,\n",
       "                                                                      13, 15,\n",
       "                                                                      17, 19],\n",
       "                                        &#x27;classification__max_leaf_nodes&#x27;: [3, 5,\n",
       "                                                                           7, 9,\n",
       "                                                                           11,\n",
       "                                                                           13,\n",
       "                                                                           15,\n",
       "                                                                           17,\n",
       "                                                                           19,\n",
       "                                                                           21,\n",
       "                                                                           23,\n",
       "                                                                           25,\n",
       "                                                                           27,\n",
       "                                                                           29,\n",
       "                                                                           31,\n",
       "                                                                           33,\n",
       "                                                                           35,\n",
       "                                                                           37,\n",
       "                                                                           39,\n",
       "                                                                           41,\n",
       "                                                                           43,\n",
       "                                                                           45,\n",
       "                                                                           47,\n",
       "                                                                           49,\n",
       "                                                                           51,\n",
       "                                                                           53,\n",
       "                                                                           55,\n",
       "                                                                           57,\n",
       "                                                                           59,\n",
       "                                                                           61, ...],\n",
       "                                        &#x27;classification__min_samples_split&#x27;: [2,\n",
       "                                                                              4,\n",
       "                                                                              6,\n",
       "                                                                              8,\n",
       "                                                                              10]},\n",
       "                   random_state=42)</pre><b>In a Jupyter environment, please rerun this cell to show the HTML representation or trust the notebook. <br />On GitHub, the HTML representation is unable to render, please try loading this page with nbviewer.org.</b></div><div class=\"sk-container\" hidden><div class=\"sk-item sk-dashed-wrapped\"><div class=\"sk-label-container\"><div class=\"sk-label sk-toggleable\"><input class=\"sk-toggleable__control sk-hidden--visually\" id=\"sk-estimator-id-16\" type=\"checkbox\" ><label for=\"sk-estimator-id-16\" class=\"sk-toggleable__label sk-toggleable__label-arrow\">RandomizedSearchCV</label><div class=\"sk-toggleable__content\"><pre>RandomizedSearchCV(cv=5,\n",
       "                   estimator=Pipeline(steps=[(&#x27;preprocessing&#x27;,\n",
       "                                              Pipeline(steps=[(&#x27;minmaxscaler&#x27;,\n",
       "                                                               MinMaxScaler())])),\n",
       "                                             (&#x27;classification&#x27;,\n",
       "                                              DecisionTreeClassifier())]),\n",
       "                   n_iter=100,\n",
       "                   param_distributions={&#x27;classification__criterion&#x27;: [&#x27;gini&#x27;,\n",
       "                                                                      &#x27;entropy&#x27;],\n",
       "                                        &#x27;classification__max_depth&#x27;: [1, 3, 5,\n",
       "                                                                      7, 9, 11,\n",
       "                                                                      13, 15,\n",
       "                                                                      17, 19],\n",
       "                                        &#x27;classification__max_leaf_nodes&#x27;: [3, 5,\n",
       "                                                                           7, 9,\n",
       "                                                                           11,\n",
       "                                                                           13,\n",
       "                                                                           15,\n",
       "                                                                           17,\n",
       "                                                                           19,\n",
       "                                                                           21,\n",
       "                                                                           23,\n",
       "                                                                           25,\n",
       "                                                                           27,\n",
       "                                                                           29,\n",
       "                                                                           31,\n",
       "                                                                           33,\n",
       "                                                                           35,\n",
       "                                                                           37,\n",
       "                                                                           39,\n",
       "                                                                           41,\n",
       "                                                                           43,\n",
       "                                                                           45,\n",
       "                                                                           47,\n",
       "                                                                           49,\n",
       "                                                                           51,\n",
       "                                                                           53,\n",
       "                                                                           55,\n",
       "                                                                           57,\n",
       "                                                                           59,\n",
       "                                                                           61, ...],\n",
       "                                        &#x27;classification__min_samples_split&#x27;: [2,\n",
       "                                                                              4,\n",
       "                                                                              6,\n",
       "                                                                              8,\n",
       "                                                                              10]},\n",
       "                   random_state=42)</pre></div></div></div><div class=\"sk-parallel\"><div class=\"sk-parallel-item\"><div class=\"sk-item\"><div class=\"sk-label-container\"><div class=\"sk-label sk-toggleable\"><input class=\"sk-toggleable__control sk-hidden--visually\" id=\"sk-estimator-id-17\" type=\"checkbox\" ><label for=\"sk-estimator-id-17\" class=\"sk-toggleable__label sk-toggleable__label-arrow\">estimator: Pipeline</label><div class=\"sk-toggleable__content\"><pre>Pipeline(steps=[(&#x27;preprocessing&#x27;,\n",
       "                 Pipeline(steps=[(&#x27;minmaxscaler&#x27;, MinMaxScaler())])),\n",
       "                (&#x27;classification&#x27;, DecisionTreeClassifier())])</pre></div></div></div><div class=\"sk-serial\"><div class=\"sk-item\"><div class=\"sk-serial\"><div class=\"sk-item\"><div class=\"sk-label-container\"><div class=\"sk-label sk-toggleable\"><input class=\"sk-toggleable__control sk-hidden--visually\" id=\"sk-estimator-id-18\" type=\"checkbox\" ><label for=\"sk-estimator-id-18\" class=\"sk-toggleable__label sk-toggleable__label-arrow\">preprocessing: Pipeline</label><div class=\"sk-toggleable__content\"><pre>Pipeline(steps=[(&#x27;minmaxscaler&#x27;, MinMaxScaler())])</pre></div></div></div><div class=\"sk-serial\"><div class=\"sk-item\"><div class=\"sk-estimator sk-toggleable\"><input class=\"sk-toggleable__control sk-hidden--visually\" id=\"sk-estimator-id-19\" type=\"checkbox\" ><label for=\"sk-estimator-id-19\" class=\"sk-toggleable__label sk-toggleable__label-arrow\">MinMaxScaler</label><div class=\"sk-toggleable__content\"><pre>MinMaxScaler()</pre></div></div></div></div></div><div class=\"sk-item\"><div class=\"sk-estimator sk-toggleable\"><input class=\"sk-toggleable__control sk-hidden--visually\" id=\"sk-estimator-id-20\" type=\"checkbox\" ><label for=\"sk-estimator-id-20\" class=\"sk-toggleable__label sk-toggleable__label-arrow\">DecisionTreeClassifier</label><div class=\"sk-toggleable__content\"><pre>DecisionTreeClassifier()</pre></div></div></div></div></div></div></div></div></div></div></div></div>"
      ],
      "text/plain": [
       "RandomizedSearchCV(cv=5,\n",
       "                   estimator=Pipeline(steps=[('preprocessing',\n",
       "                                              Pipeline(steps=[('minmaxscaler',\n",
       "                                                               MinMaxScaler())])),\n",
       "                                             ('classification',\n",
       "                                              DecisionTreeClassifier())]),\n",
       "                   n_iter=100,\n",
       "                   param_distributions={'classification__criterion': ['gini',\n",
       "                                                                      'entropy'],\n",
       "                                        'classification__max_depth': [1, 3, 5,\n",
       "                                                                      7, 9, 11,\n",
       "                                                                      13, 15,\n",
       "                                                                      17, 19],\n",
       "                                        'classification__max_leaf_nodes': [3, 5,\n",
       "                                                                           7, 9,\n",
       "                                                                           11,\n",
       "                                                                           13,\n",
       "                                                                           15,\n",
       "                                                                           17,\n",
       "                                                                           19,\n",
       "                                                                           21,\n",
       "                                                                           23,\n",
       "                                                                           25,\n",
       "                                                                           27,\n",
       "                                                                           29,\n",
       "                                                                           31,\n",
       "                                                                           33,\n",
       "                                                                           35,\n",
       "                                                                           37,\n",
       "                                                                           39,\n",
       "                                                                           41,\n",
       "                                                                           43,\n",
       "                                                                           45,\n",
       "                                                                           47,\n",
       "                                                                           49,\n",
       "                                                                           51,\n",
       "                                                                           53,\n",
       "                                                                           55,\n",
       "                                                                           57,\n",
       "                                                                           59,\n",
       "                                                                           61, ...],\n",
       "                                        'classification__min_samples_split': [2,\n",
       "                                                                              4,\n",
       "                                                                              6,\n",
       "                                                                              8,\n",
       "                                                                              10]},\n",
       "                   random_state=42)"
      ]
     },
     "execution_count": 88,
     "metadata": {},
     "output_type": "execute_result"
    }
   ],
   "source": [
    "r1.fit(X_train, y_train)"
   ]
  },
  {
   "cell_type": "code",
   "execution_count": 89,
   "metadata": {},
   "outputs": [
    {
     "data": {
      "text/plain": [
       "{'classification__min_samples_split': 2,\n",
       " 'classification__max_leaf_nodes': 409,\n",
       " 'classification__max_depth': 17,\n",
       " 'classification__criterion': 'entropy'}"
      ]
     },
     "execution_count": 89,
     "metadata": {},
     "output_type": "execute_result"
    }
   ],
   "source": [
    "r1.best_params_"
   ]
  },
  {
   "cell_type": "code",
   "execution_count": 90,
   "metadata": {},
   "outputs": [
    {
     "data": {
      "text/plain": [
       "0.7017310252996005"
      ]
     },
     "execution_count": 90,
     "metadata": {},
     "output_type": "execute_result"
    }
   ],
   "source": [
    "r1.score(X_test, y_test)"
   ]
  },
  {
   "cell_type": "code",
   "execution_count": 102,
   "metadata": {},
   "outputs": [
    {
     "name": "stdout",
     "output_type": "stream",
     "text": [
      "[ 89306 175000 124000 150000 113900 260000 169000 120000 179820 250000\n",
      "  88256  63000 130000 215000 159832  90000  85500 100000 160000  73742\n",
      " 216000 154000  92350 135000  52533 249500 130000 170000 155000  66000\n",
      " 150000  88256  73546 123000 185900  78990 185900 135000 145000 175000\n",
      "  95000 140000 100000 130000  63831 227000 150000 145000 204500 160000\n",
      "  54094 205000  31520  63000 100000 231250 130000  49253  52500  50432\n",
      "  50000 216000 169000 125000 117000  43809 180000 130000 200000  80000\n",
      " 240000 310000 100000  81666 182750 183500 190000 195400 147100  57723\n",
      " 141525 150000  63000 135000  61566 141525 105500 160000 145000  60000\n",
      "  48000  92350 102100 180000 125404  12171  81500 160000 141525 170000\n",
      "  49253 185900  75000 150075 152380 210000 160000 210000 170000 129300\n",
      " 100000 100000 240000 110600 237000  61566  92700 143000 265000  33000\n",
      " 110820  17022 120000 242000 146000 117000  30523  42026 106020 110000\n",
      "  38631  90734  31520  70000 128000 110000 110820 110000  80036  78000\n",
      " 145000 120000  67597 225000 122600   5679 106020 102100  45618 168000\n",
      " 150000 370000  93700 204500 159832 230000 100000 148700 170000  89306\n",
      " 160000  67723 102000 150000  50000 148700  43096 180000 260000   6072\n",
      " 128000 119000  48000 117000 156600 135000  89306 117000 190000 220000\n",
      " 184100 184000  73880 191475 140000 110600 139500 100000 257000 130000\n",
      "  17509 149076 215000 115000 144000 175000 130000 237000 193900 180000\n",
      "  92700 205300 275300 185900 165000 153000 124234  81500 112000 106800\n",
      " 200000 175100 100000  85000 134000  50000  78000 136000 130000  80036\n",
      " 185900 190000 100000 210000 120000 191475 126000 200000  81666 120000\n",
      "  52533 191475 130000 120000 122600 136000 125000  60000 129300 180000\n",
      " 275000 105500 168000 149040 160000  63831 200000  73742 102100 132000\n",
      " 185000 247500  70000 129300 156400 147100  81500  68293  57786  52533\n",
      " 172000 145000  31520 145000  43809 116704  67723 124234  75774 204500\n",
      "  89306 168000 324000 190000   6270 140000  92000  92350 200000 178800\n",
      " 180000 160000 275300 145000  55000  85000 132320 200000  78000  90000\n",
      " 154600 141525 185000  54634 108000 129300  70000 115000  54634 175000\n",
      " 310000 170000  85066 160000  90000 100000 120000  31520  83000 166000\n",
      "  75000 150000  89306  88256  60000 200000 130000  73880 154600 135000\n",
      " 140000 132000 147100  75000 145000 195400  48000 284000  42028 192000\n",
      " 207000 110820 130000  61566  66000  70000 225000 162500 191200  50000\n",
      " 284000 231250 163800 120000 205000 100000 230000 196000 152000 252000\n",
      " 135000 185900 131300  57723  80000 145000 140000  80000  73546 175000\n",
      " 200000 160000  80036 106500 106000 106000 100000 200000 130000 144000\n",
      "  50000 185000  68293 125000 115000 129000 168400  75000 150000  80000\n",
      " 196000 370000 173000 225000  90000  42026 110000   9727 152380 199000\n",
      "  86193 135000 115934 140000 130000 170000  98506 190000 120000  85000\n",
      " 185900 110925 198200 121523  88256  70000  70000  81500 140000 122000\n",
      " 120000 150000 110000 135000 125000 185900 100000 250000  49253 185900\n",
      "  82365 100000 210000  92350 165000 130000  70000 132320 130000 225000\n",
      "  66000 170000 191475 190000 192000 115000 239000 165000 135000 113000\n",
      " 200000  90000  52533 200000 227000 145000 213120 105000  73546 110820\n",
      " 314100  96578 140000 324000 115000  68293 145000 195000  65000 224000\n",
      "  30000 194000 130000 192000 150075 107000 115000 115000 177000 200000\n",
      " 180180  30000 147100 148700 121523 108000 120000  75000  70000 142200\n",
      " 104000  75000  48000 142200 123405 110000 130000 160080 171000 202353\n",
      " 120250 160000 130000 160000 160000  70000 183000 199000 160000 210000\n",
      "  10354 205300 200000 140000 105000  60000 129000 159000  78000 115000\n",
      " 115360 136000 163800 230000  70000 191475  65000  70000 206000  49253\n",
      " 225000 120000 112000 210000 155000 130000 199000 150000  15000 231250\n",
      " 246000 140700 132000 140000 100000  73546 136000  42026 153000  24000\n",
      " 255000 182000 176000  40000 275000  10000 189650 142200 185900 145000\n",
      "  85000 130000 116000 220000  72914 155000  21013 174500 140000 166000\n",
      "  21013 202900 230000 140000  25000 231250 160000 143200 247500 153600\n",
      " 125000  10354 183000 130500  80000 129300 105000  51039 175000 139500\n",
      " 150000 165000  88654 242000 213120 225000 120000  59888 200000 120000\n",
      " 129300 113000   5409 121700 183000  81666  99100 239000  80000  87000\n",
      "  48000  60761 120250 180180 276000 150000 165000  36773 100000  54094\n",
      " 180000 120000 250000  19073  76833 120000 126000 100000 187500 147100\n",
      " 199000  10354 110000 240000 247500 140000 257000 130000 175000 136000\n",
      " 225000 265000   5723 131300  80000  54685 175000 140000 131300 145000\n",
      "  12000 130000 275300  52533 133800 105000 175000 289800  57786 115934\n",
      " 265000 180000 141525 275000  54685 110000 146000  95000  43809  70000\n",
      " 184000 120000 164000 129300 150000 145000 150000 150000 257000 170000\n",
      "  75000 150075  31520 154600 199000 169000 197000  55000  58000  63040\n",
      " 225000 203500 225000 121523  63000 199000  42026 187200 210914 237000\n",
      " 192500  16904 110600 163800 120000 120000 139500  90320  95000  99000\n",
      " 192000 225000 182000 130000  95000 150000 116704 265000 174500 155000\n",
      " 284000 297300 130000  98000 171000  85500 183600  95000 156400  33000\n",
      " 147100  90000 189650  52500  70000 127000 128000  72200  10000  92350\n",
      " 115360  85000 140400  54094  57786  57723  60000  65000 200000 139500\n",
      " 120000 136000 139500 156400  75000  52500 200000 185900 146000 250000\n",
      " 100000]\n",
      "3447     89306\n",
      "3017    175000\n",
      "2025    124000\n",
      "3575    150000\n",
      "731     113900\n",
      "         ...  \n",
      "3437    200000\n",
      "1011    185900\n",
      "749     146000\n",
      "801     250000\n",
      "2437    100000\n",
      "Name: salary_in_usd, Length: 751, dtype: int64\n",
      "Accuracy score: 0.7017310252996005\n",
      "Precyzja: 0.6524610653438883\n",
      "Czułość: 0.7017310252996005\n"
     ]
    },
    {
     "name": "stderr",
     "output_type": "stream",
     "text": [
      "c:\\Users\\Stasiek\\AppData\\Local\\Programs\\Python\\Python310\\lib\\site-packages\\sklearn\\metrics\\_classification.py:1344: UndefinedMetricWarning: Precision is ill-defined and being set to 0.0 in labels with no predicted samples. Use `zero_division` parameter to control this behavior.\n",
      "  _warn_prf(average, modifier, msg_start, len(result))\n",
      "c:\\Users\\Stasiek\\AppData\\Local\\Programs\\Python\\Python310\\lib\\site-packages\\sklearn\\metrics\\_classification.py:1344: UndefinedMetricWarning: Recall is ill-defined and being set to 0.0 in labels with no true samples. Use `zero_division` parameter to control this behavior.\n",
      "  _warn_prf(average, modifier, msg_start, len(result))\n"
     ]
    }
   ],
   "source": [
    "y_pred = r1.predict(X_test)\n",
    "\n",
    "print(f'Accuracy score: {accuracy_score(y_true=y_test, y_pred=y_pred)}')\n",
    "print(f'Precyzja: {precision_score(y_true=y_test, y_pred=y_pred, average=\"weighted\")}')\n",
    "print(f'Czułość: {recall_score(y_true=y_test, y_pred=y_pred, average=\"weighted\")}')"
   ]
  },
  {
   "cell_type": "markdown",
   "metadata": {},
   "source": [
    "## 5. RandomForestRegressor"
   ]
  },
  {
   "cell_type": "code",
   "execution_count": 92,
   "metadata": {},
   "outputs": [],
   "source": [
    "from sklearn.ensemble import RandomForestRegressor"
   ]
  },
  {
   "cell_type": "code",
   "execution_count": 93,
   "metadata": {},
   "outputs": [],
   "source": [
    "rfr_pipeline = Pipeline([\n",
    "    ('preprocessing', preprocessing_pipeline),\n",
    "    ('classification', RandomForestRegressor())\n",
    "])"
   ]
  },
  {
   "cell_type": "code",
   "execution_count": 94,
   "metadata": {},
   "outputs": [],
   "source": [
    "rfr_params = {\n",
    "    'classification__n_estimators':np.arange(80, 111).tolist()[0::2],\n",
    "    'classification__criterion':['squared_error','absolute_error', 'friedman_mse', 'poisson'],\n",
    "    'classification__max_depth':np.arange(10, 21).tolist()[0::2],\n",
    "    'classification__min_samples_split':np.arange(2,11).tolist()[0::2]\n",
    "    # 'classification__max_leaf_nodes':np.arange(301, 451).tolist()[0::2]\n",
    "}"
   ]
  },
  {
   "cell_type": "code",
   "execution_count": 95,
   "metadata": {},
   "outputs": [],
   "source": [
    "r2 = RandomizedSearchCV(rfr_pipeline, rfr_params, cv=5, n_iter=10, random_state=42)"
   ]
  },
  {
   "cell_type": "code",
   "execution_count": 96,
   "metadata": {},
   "outputs": [
    {
     "data": {
      "text/html": [
       "<style>#sk-container-id-5 {color: black;background-color: white;}#sk-container-id-5 pre{padding: 0;}#sk-container-id-5 div.sk-toggleable {background-color: white;}#sk-container-id-5 label.sk-toggleable__label {cursor: pointer;display: block;width: 100%;margin-bottom: 0;padding: 0.3em;box-sizing: border-box;text-align: center;}#sk-container-id-5 label.sk-toggleable__label-arrow:before {content: \"▸\";float: left;margin-right: 0.25em;color: #696969;}#sk-container-id-5 label.sk-toggleable__label-arrow:hover:before {color: black;}#sk-container-id-5 div.sk-estimator:hover label.sk-toggleable__label-arrow:before {color: black;}#sk-container-id-5 div.sk-toggleable__content {max-height: 0;max-width: 0;overflow: hidden;text-align: left;background-color: #f0f8ff;}#sk-container-id-5 div.sk-toggleable__content pre {margin: 0.2em;color: black;border-radius: 0.25em;background-color: #f0f8ff;}#sk-container-id-5 input.sk-toggleable__control:checked~div.sk-toggleable__content {max-height: 200px;max-width: 100%;overflow: auto;}#sk-container-id-5 input.sk-toggleable__control:checked~label.sk-toggleable__label-arrow:before {content: \"▾\";}#sk-container-id-5 div.sk-estimator input.sk-toggleable__control:checked~label.sk-toggleable__label {background-color: #d4ebff;}#sk-container-id-5 div.sk-label input.sk-toggleable__control:checked~label.sk-toggleable__label {background-color: #d4ebff;}#sk-container-id-5 input.sk-hidden--visually {border: 0;clip: rect(1px 1px 1px 1px);clip: rect(1px, 1px, 1px, 1px);height: 1px;margin: -1px;overflow: hidden;padding: 0;position: absolute;width: 1px;}#sk-container-id-5 div.sk-estimator {font-family: monospace;background-color: #f0f8ff;border: 1px dotted black;border-radius: 0.25em;box-sizing: border-box;margin-bottom: 0.5em;}#sk-container-id-5 div.sk-estimator:hover {background-color: #d4ebff;}#sk-container-id-5 div.sk-parallel-item::after {content: \"\";width: 100%;border-bottom: 1px solid gray;flex-grow: 1;}#sk-container-id-5 div.sk-label:hover label.sk-toggleable__label {background-color: #d4ebff;}#sk-container-id-5 div.sk-serial::before {content: \"\";position: absolute;border-left: 1px solid gray;box-sizing: border-box;top: 0;bottom: 0;left: 50%;z-index: 0;}#sk-container-id-5 div.sk-serial {display: flex;flex-direction: column;align-items: center;background-color: white;padding-right: 0.2em;padding-left: 0.2em;position: relative;}#sk-container-id-5 div.sk-item {position: relative;z-index: 1;}#sk-container-id-5 div.sk-parallel {display: flex;align-items: stretch;justify-content: center;background-color: white;position: relative;}#sk-container-id-5 div.sk-item::before, #sk-container-id-5 div.sk-parallel-item::before {content: \"\";position: absolute;border-left: 1px solid gray;box-sizing: border-box;top: 0;bottom: 0;left: 50%;z-index: -1;}#sk-container-id-5 div.sk-parallel-item {display: flex;flex-direction: column;z-index: 1;position: relative;background-color: white;}#sk-container-id-5 div.sk-parallel-item:first-child::after {align-self: flex-end;width: 50%;}#sk-container-id-5 div.sk-parallel-item:last-child::after {align-self: flex-start;width: 50%;}#sk-container-id-5 div.sk-parallel-item:only-child::after {width: 0;}#sk-container-id-5 div.sk-dashed-wrapped {border: 1px dashed gray;margin: 0 0.4em 0.5em 0.4em;box-sizing: border-box;padding-bottom: 0.4em;background-color: white;}#sk-container-id-5 div.sk-label label {font-family: monospace;font-weight: bold;display: inline-block;line-height: 1.2em;}#sk-container-id-5 div.sk-label-container {text-align: center;}#sk-container-id-5 div.sk-container {/* jupyter's `normalize.less` sets `[hidden] { display: none; }` but bootstrap.min.css set `[hidden] { display: none !important; }` so we also need the `!important` here to be able to override the default hidden behavior on the sphinx rendered scikit-learn.org. See: https://github.com/scikit-learn/scikit-learn/issues/21755 */display: inline-block !important;position: relative;}#sk-container-id-5 div.sk-text-repr-fallback {display: none;}</style><div id=\"sk-container-id-5\" class=\"sk-top-container\"><div class=\"sk-text-repr-fallback\"><pre>RandomizedSearchCV(cv=5,\n",
       "                   estimator=Pipeline(steps=[(&#x27;preprocessing&#x27;,\n",
       "                                              Pipeline(steps=[(&#x27;minmaxscaler&#x27;,\n",
       "                                                               MinMaxScaler())])),\n",
       "                                             (&#x27;classification&#x27;,\n",
       "                                              RandomForestRegressor())]),\n",
       "                   param_distributions={&#x27;classification__criterion&#x27;: [&#x27;squared_error&#x27;,\n",
       "                                                                      &#x27;absolute_error&#x27;,\n",
       "                                                                      &#x27;friedman_mse&#x27;,\n",
       "                                                                      &#x27;poisson&#x27;],\n",
       "                                        &#x27;classification__max_depth&#x27;: [10, 12,\n",
       "                                                                      14, 16,\n",
       "                                                                      18, 20],\n",
       "                                        &#x27;classification__min_samples_split&#x27;: [2,\n",
       "                                                                              4,\n",
       "                                                                              6,\n",
       "                                                                              8,\n",
       "                                                                              10],\n",
       "                                        &#x27;classification__n_estimators&#x27;: [80, 82,\n",
       "                                                                         84, 86,\n",
       "                                                                         88, 90,\n",
       "                                                                         92, 94,\n",
       "                                                                         96, 98,\n",
       "                                                                         100,\n",
       "                                                                         102,\n",
       "                                                                         104,\n",
       "                                                                         106,\n",
       "                                                                         108,\n",
       "                                                                         110]},\n",
       "                   random_state=42)</pre><b>In a Jupyter environment, please rerun this cell to show the HTML representation or trust the notebook. <br />On GitHub, the HTML representation is unable to render, please try loading this page with nbviewer.org.</b></div><div class=\"sk-container\" hidden><div class=\"sk-item sk-dashed-wrapped\"><div class=\"sk-label-container\"><div class=\"sk-label sk-toggleable\"><input class=\"sk-toggleable__control sk-hidden--visually\" id=\"sk-estimator-id-21\" type=\"checkbox\" ><label for=\"sk-estimator-id-21\" class=\"sk-toggleable__label sk-toggleable__label-arrow\">RandomizedSearchCV</label><div class=\"sk-toggleable__content\"><pre>RandomizedSearchCV(cv=5,\n",
       "                   estimator=Pipeline(steps=[(&#x27;preprocessing&#x27;,\n",
       "                                              Pipeline(steps=[(&#x27;minmaxscaler&#x27;,\n",
       "                                                               MinMaxScaler())])),\n",
       "                                             (&#x27;classification&#x27;,\n",
       "                                              RandomForestRegressor())]),\n",
       "                   param_distributions={&#x27;classification__criterion&#x27;: [&#x27;squared_error&#x27;,\n",
       "                                                                      &#x27;absolute_error&#x27;,\n",
       "                                                                      &#x27;friedman_mse&#x27;,\n",
       "                                                                      &#x27;poisson&#x27;],\n",
       "                                        &#x27;classification__max_depth&#x27;: [10, 12,\n",
       "                                                                      14, 16,\n",
       "                                                                      18, 20],\n",
       "                                        &#x27;classification__min_samples_split&#x27;: [2,\n",
       "                                                                              4,\n",
       "                                                                              6,\n",
       "                                                                              8,\n",
       "                                                                              10],\n",
       "                                        &#x27;classification__n_estimators&#x27;: [80, 82,\n",
       "                                                                         84, 86,\n",
       "                                                                         88, 90,\n",
       "                                                                         92, 94,\n",
       "                                                                         96, 98,\n",
       "                                                                         100,\n",
       "                                                                         102,\n",
       "                                                                         104,\n",
       "                                                                         106,\n",
       "                                                                         108,\n",
       "                                                                         110]},\n",
       "                   random_state=42)</pre></div></div></div><div class=\"sk-parallel\"><div class=\"sk-parallel-item\"><div class=\"sk-item\"><div class=\"sk-label-container\"><div class=\"sk-label sk-toggleable\"><input class=\"sk-toggleable__control sk-hidden--visually\" id=\"sk-estimator-id-22\" type=\"checkbox\" ><label for=\"sk-estimator-id-22\" class=\"sk-toggleable__label sk-toggleable__label-arrow\">estimator: Pipeline</label><div class=\"sk-toggleable__content\"><pre>Pipeline(steps=[(&#x27;preprocessing&#x27;,\n",
       "                 Pipeline(steps=[(&#x27;minmaxscaler&#x27;, MinMaxScaler())])),\n",
       "                (&#x27;classification&#x27;, RandomForestRegressor())])</pre></div></div></div><div class=\"sk-serial\"><div class=\"sk-item\"><div class=\"sk-serial\"><div class=\"sk-item\"><div class=\"sk-label-container\"><div class=\"sk-label sk-toggleable\"><input class=\"sk-toggleable__control sk-hidden--visually\" id=\"sk-estimator-id-23\" type=\"checkbox\" ><label for=\"sk-estimator-id-23\" class=\"sk-toggleable__label sk-toggleable__label-arrow\">preprocessing: Pipeline</label><div class=\"sk-toggleable__content\"><pre>Pipeline(steps=[(&#x27;minmaxscaler&#x27;, MinMaxScaler())])</pre></div></div></div><div class=\"sk-serial\"><div class=\"sk-item\"><div class=\"sk-estimator sk-toggleable\"><input class=\"sk-toggleable__control sk-hidden--visually\" id=\"sk-estimator-id-24\" type=\"checkbox\" ><label for=\"sk-estimator-id-24\" class=\"sk-toggleable__label sk-toggleable__label-arrow\">MinMaxScaler</label><div class=\"sk-toggleable__content\"><pre>MinMaxScaler()</pre></div></div></div></div></div><div class=\"sk-item\"><div class=\"sk-estimator sk-toggleable\"><input class=\"sk-toggleable__control sk-hidden--visually\" id=\"sk-estimator-id-25\" type=\"checkbox\" ><label for=\"sk-estimator-id-25\" class=\"sk-toggleable__label sk-toggleable__label-arrow\">RandomForestRegressor</label><div class=\"sk-toggleable__content\"><pre>RandomForestRegressor()</pre></div></div></div></div></div></div></div></div></div></div></div></div>"
      ],
      "text/plain": [
       "RandomizedSearchCV(cv=5,\n",
       "                   estimator=Pipeline(steps=[('preprocessing',\n",
       "                                              Pipeline(steps=[('minmaxscaler',\n",
       "                                                               MinMaxScaler())])),\n",
       "                                             ('classification',\n",
       "                                              RandomForestRegressor())]),\n",
       "                   param_distributions={'classification__criterion': ['squared_error',\n",
       "                                                                      'absolute_error',\n",
       "                                                                      'friedman_mse',\n",
       "                                                                      'poisson'],\n",
       "                                        'classification__max_depth': [10, 12,\n",
       "                                                                      14, 16,\n",
       "                                                                      18, 20],\n",
       "                                        'classification__min_samples_split': [2,\n",
       "                                                                              4,\n",
       "                                                                              6,\n",
       "                                                                              8,\n",
       "                                                                              10],\n",
       "                                        'classification__n_estimators': [80, 82,\n",
       "                                                                         84, 86,\n",
       "                                                                         88, 90,\n",
       "                                                                         92, 94,\n",
       "                                                                         96, 98,\n",
       "                                                                         100,\n",
       "                                                                         102,\n",
       "                                                                         104,\n",
       "                                                                         106,\n",
       "                                                                         108,\n",
       "                                                                         110]},\n",
       "                   random_state=42)"
      ]
     },
     "execution_count": 96,
     "metadata": {},
     "output_type": "execute_result"
    }
   ],
   "source": [
    "r2.fit(X_train, y_train)"
   ]
  },
  {
   "cell_type": "code",
   "execution_count": 103,
   "metadata": {},
   "outputs": [
    {
     "data": {
      "text/plain": [
       "{'classification__n_estimators': 92,\n",
       " 'classification__min_samples_split': 2,\n",
       " 'classification__max_depth': 14,\n",
       " 'classification__criterion': 'friedman_mse'}"
      ]
     },
     "execution_count": 103,
     "metadata": {},
     "output_type": "execute_result"
    }
   ],
   "source": [
    "r2.best_params_"
   ]
  },
  {
   "cell_type": "code",
   "execution_count": 97,
   "metadata": {},
   "outputs": [
    {
     "data": {
      "text/plain": [
       "0.9625529519448386"
      ]
     },
     "execution_count": 97,
     "metadata": {},
     "output_type": "execute_result"
    }
   ],
   "source": [
    "r2.score(X_test, y_test)"
   ]
  },
  {
   "cell_type": "code",
   "execution_count": 104,
   "metadata": {},
   "outputs": [
    {
     "name": "stdout",
     "output_type": "stream",
     "text": [
      "Niestety accuracy score, precision score i recall score nie były w stanie obsłużyć takich zmiennych (z jakiegoś powodu)\n"
     ]
    }
   ],
   "source": [
    "y_pred = r2.predict(X_test)\n",
    "\n",
    "print(f'Niestety accuracy score, precision score i recall score nie były w stanie obsłużyć takich zmiennych (z jakiegoś powodu)')\n",
    "\n",
    "# print(f'Accuracy score: {accuracy_score(y_true=y_test, y_pred=y_pred)}')\n",
    "# print(f'Precyzja: {precision_score(y_true=y_test, y_pred=y_pred, average=\"weighted\")}')\n",
    "# print(f'Czułość: {recall_score(y_true=y_test, y_pred=y_pred, average=\"weighted\")}')"
   ]
  },
  {
   "cell_type": "markdown",
   "metadata": {},
   "source": [
    "## 6. LinearRegression"
   ]
  },
  {
   "cell_type": "code",
   "execution_count": null,
   "metadata": {},
   "outputs": [],
   "source": []
  }
 ],
 "metadata": {
  "kernelspec": {
   "display_name": "Python 3",
   "language": "python",
   "name": "python3"
  },
  "language_info": {
   "codemirror_mode": {
    "name": "ipython",
    "version": 3
   },
   "file_extension": ".py",
   "mimetype": "text/x-python",
   "name": "python",
   "nbconvert_exporter": "python",
   "pygments_lexer": "ipython3",
   "version": "3.10.0"
  }
 },
 "nbformat": 4,
 "nbformat_minor": 2
}
